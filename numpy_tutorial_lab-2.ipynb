{
 "cells": [
  {
   "cell_type": "code",
   "execution_count": 1,
   "id": "455b62e1",
   "metadata": {},
   "outputs": [],
   "source": [
    "import numpy as np"
   ]
  },
  {
   "cell_type": "code",
   "execution_count": 8,
   "id": "b59b637e",
   "metadata": {},
   "outputs": [
    {
     "data": {
      "text/plain": [
       "array([1, 2, 2, 3, 4])"
      ]
     },
     "execution_count": 8,
     "metadata": {},
     "output_type": "execute_result"
    }
   ],
   "source": [
    "a = np.array([1,2,2,3,4])\n",
    "a"
   ]
  },
  {
   "cell_type": "code",
   "execution_count": 9,
   "id": "4da2f07a",
   "metadata": {},
   "outputs": [
    {
     "data": {
      "text/plain": [
       "array([[1, 2, 3],\n",
       "       [2, 3, 5],\n",
       "       [3, 4, 6]])"
      ]
     },
     "execution_count": 9,
     "metadata": {},
     "output_type": "execute_result"
    }
   ],
   "source": [
    "b = np.array([[1,2,3],[2,3,5],[3,4,6]])\n",
    "b"
   ]
  },
  {
   "cell_type": "code",
   "execution_count": 10,
   "id": "96e3ae1a",
   "metadata": {},
   "outputs": [
    {
     "data": {
      "text/plain": [
       "(3, 3)"
      ]
     },
     "execution_count": 10,
     "metadata": {},
     "output_type": "execute_result"
    }
   ],
   "source": [
    "b.shape"
   ]
  },
  {
   "cell_type": "markdown",
   "id": "2f35fd97",
   "metadata": {},
   "source": [
    "## Unique Function"
   ]
  },
  {
   "cell_type": "code",
   "execution_count": 15,
   "id": "4c33ef0b",
   "metadata": {},
   "outputs": [
    {
     "data": {
      "text/plain": [
       "(array([1, 2, 3, 4]),\n",
       " array([0, 1, 3, 4], dtype=int64),\n",
       " array([1, 2, 1, 1], dtype=int64))"
      ]
     },
     "execution_count": 15,
     "metadata": {},
     "output_type": "execute_result"
    }
   ],
   "source": [
    "np.unique(a,return_counts=True,return_index=True)"
   ]
  },
  {
   "cell_type": "code",
   "execution_count": null,
   "id": "e73a1f18",
   "metadata": {},
   "outputs": [],
   "source": []
  },
  {
   "cell_type": "markdown",
   "id": "3648aed8",
   "metadata": {},
   "source": [
    "## Transpose and Reshape Matrix"
   ]
  },
  {
   "cell_type": "code",
   "execution_count": 16,
   "id": "d54f7fa4",
   "metadata": {},
   "outputs": [
    {
     "data": {
      "text/plain": [
       "array([[1, 2, 3],\n",
       "       [2, 3, 4],\n",
       "       [3, 5, 6]])"
      ]
     },
     "execution_count": 16,
     "metadata": {},
     "output_type": "execute_result"
    }
   ],
   "source": [
    "np.transpose(b)"
   ]
  },
  {
   "cell_type": "code",
   "execution_count": 17,
   "id": "e0cf6834",
   "metadata": {},
   "outputs": [
    {
     "data": {
      "text/plain": [
       "array([[1, 2, 3],\n",
       "       [2, 3, 4],\n",
       "       [3, 5, 6]])"
      ]
     },
     "execution_count": 17,
     "metadata": {},
     "output_type": "execute_result"
    }
   ],
   "source": [
    "b.transpose()"
   ]
  },
  {
   "cell_type": "code",
   "execution_count": 18,
   "id": "faa474c8",
   "metadata": {},
   "outputs": [
    {
     "data": {
      "text/plain": [
       "array([[1, 2, 3],\n",
       "       [2, 3, 4],\n",
       "       [3, 5, 6]])"
      ]
     },
     "execution_count": 18,
     "metadata": {},
     "output_type": "execute_result"
    }
   ],
   "source": [
    "b.T"
   ]
  },
  {
   "cell_type": "code",
   "execution_count": 52,
   "id": "acc734d0",
   "metadata": {},
   "outputs": [
    {
     "data": {
      "text/plain": [
       "array([[10, 11, 12],\n",
       "       [13, 14, 15]])"
      ]
     },
     "execution_count": 52,
     "metadata": {},
     "output_type": "execute_result"
    }
   ],
   "source": [
    "d = np.array([10,11,12,13,14,15])\n",
    "d.reshape((2,3))"
   ]
  },
  {
   "cell_type": "markdown",
   "id": "4475b655",
   "metadata": {},
   "source": [
    "## Reverse array"
   ]
  },
  {
   "cell_type": "code",
   "execution_count": 19,
   "id": "dfe7589b",
   "metadata": {},
   "outputs": [
    {
     "data": {
      "text/plain": [
       "array([4, 3, 2, 2, 1])"
      ]
     },
     "execution_count": 19,
     "metadata": {},
     "output_type": "execute_result"
    }
   ],
   "source": [
    "np.flip(a)"
   ]
  },
  {
   "cell_type": "code",
   "execution_count": 21,
   "id": "2b53fe2a",
   "metadata": {},
   "outputs": [
    {
     "data": {
      "text/plain": [
       "array([[3, 2, 1],\n",
       "       [5, 3, 2],\n",
       "       [6, 4, 3]])"
      ]
     },
     "execution_count": 21,
     "metadata": {},
     "output_type": "execute_result"
    }
   ],
   "source": [
    "np.flip(b,axis=1)"
   ]
  },
  {
   "cell_type": "code",
   "execution_count": 22,
   "id": "b236996a",
   "metadata": {},
   "outputs": [
    {
     "data": {
      "text/plain": [
       "array([[3, 4, 6],\n",
       "       [2, 3, 5],\n",
       "       [1, 2, 3]])"
      ]
     },
     "execution_count": 22,
     "metadata": {},
     "output_type": "execute_result"
    }
   ],
   "source": [
    "np.flip(b,axis=0)"
   ]
  },
  {
   "cell_type": "code",
   "execution_count": 35,
   "id": "9fc07224",
   "metadata": {},
   "outputs": [],
   "source": [
    "b[:1] = np.flip(b[:1])"
   ]
  },
  {
   "cell_type": "code",
   "execution_count": 36,
   "id": "2bdf0be1",
   "metadata": {},
   "outputs": [
    {
     "data": {
      "text/plain": [
       "array([[6, 4, 3],\n",
       "       [3, 2, 1],\n",
       "       [6, 4, 3]])"
      ]
     },
     "execution_count": 36,
     "metadata": {},
     "output_type": "execute_result"
    }
   ],
   "source": [
    "b"
   ]
  },
  {
   "cell_type": "markdown",
   "id": "ffb29915",
   "metadata": {},
   "source": [
    "## Flatten"
   ]
  },
  {
   "cell_type": "code",
   "execution_count": 41,
   "id": "4ee38ddc",
   "metadata": {},
   "outputs": [
    {
     "data": {
      "text/plain": [
       "array([6, 4, 3, 3, 2, 1, 6, 4, 3])"
      ]
     },
     "execution_count": 41,
     "metadata": {},
     "output_type": "execute_result"
    }
   ],
   "source": [
    "b.flatten()"
   ]
  },
  {
   "cell_type": "code",
   "execution_count": null,
   "id": "2787ab2c",
   "metadata": {},
   "outputs": [],
   "source": []
  },
  {
   "cell_type": "markdown",
   "id": "c1a88fa3",
   "metadata": {},
   "source": [
    "## Mean square error"
   ]
  },
  {
   "cell_type": "code",
   "execution_count": 42,
   "id": "a7ae99d2",
   "metadata": {},
   "outputs": [],
   "source": [
    "c = np.array([5,2,6,7,8])"
   ]
  },
  {
   "cell_type": "code",
   "execution_count": 50,
   "id": "600e95f8",
   "metadata": {},
   "outputs": [],
   "source": [
    "mse = 1/len(a) * (np.sum((c-a)**2))"
   ]
  },
  {
   "cell_type": "code",
   "execution_count": 51,
   "id": "1c0b2a9b",
   "metadata": {},
   "outputs": [
    {
     "data": {
      "text/plain": [
       "12.8"
      ]
     },
     "execution_count": 51,
     "metadata": {},
     "output_type": "execute_result"
    }
   ],
   "source": [
    "mse"
   ]
  },
  {
   "cell_type": "code",
   "execution_count": null,
   "id": "fb652623",
   "metadata": {},
   "outputs": [],
   "source": []
  },
  {
   "cell_type": "markdown",
   "id": "764bbcd8",
   "metadata": {},
   "source": [
    "## save and load numpy array"
   ]
  },
  {
   "cell_type": "code",
   "execution_count": 56,
   "id": "8be4be1e",
   "metadata": {},
   "outputs": [],
   "source": [
    "np.save(\"array\",b)"
   ]
  },
  {
   "cell_type": "code",
   "execution_count": 57,
   "id": "a3d70fa9",
   "metadata": {},
   "outputs": [],
   "source": [
    "data = np.load(\"array.npy\")"
   ]
  },
  {
   "cell_type": "code",
   "execution_count": 59,
   "id": "5c962c10",
   "metadata": {},
   "outputs": [
    {
     "data": {
      "text/plain": [
       "array([[6, 4, 3],\n",
       "       [3, 2, 1],\n",
       "       [6, 4, 3]])"
      ]
     },
     "execution_count": 59,
     "metadata": {},
     "output_type": "execute_result"
    }
   ],
   "source": [
    "data"
   ]
  },
  {
   "cell_type": "code",
   "execution_count": 60,
   "id": "e73fabfb",
   "metadata": {},
   "outputs": [],
   "source": [
    "np.savetxt(\"array_csv.csv\",b)"
   ]
  },
  {
   "cell_type": "code",
   "execution_count": 61,
   "id": "620c959c",
   "metadata": {},
   "outputs": [],
   "source": [
    "data1 = np.loadtxt(\"array_csv.csv\")"
   ]
  },
  {
   "cell_type": "code",
   "execution_count": 62,
   "id": "fd5ecd2a",
   "metadata": {},
   "outputs": [
    {
     "data": {
      "text/plain": [
       "array([[6., 4., 3.],\n",
       "       [3., 2., 1.],\n",
       "       [6., 4., 3.]])"
      ]
     },
     "execution_count": 62,
     "metadata": {},
     "output_type": "execute_result"
    }
   ],
   "source": [
    "data1"
   ]
  },
  {
   "cell_type": "code",
   "execution_count": null,
   "id": "843eee67",
   "metadata": {},
   "outputs": [],
   "source": []
  },
  {
   "cell_type": "markdown",
   "id": "f59954ff",
   "metadata": {},
   "source": [
    "# Matplotlib"
   ]
  },
  {
   "cell_type": "code",
   "execution_count": 63,
   "id": "d8af5342",
   "metadata": {},
   "outputs": [],
   "source": [
    "import matplotlib.pyplot as plt"
   ]
  },
  {
   "cell_type": "markdown",
   "id": "2101c9e7",
   "metadata": {},
   "source": [
    "## line plot"
   ]
  },
  {
   "cell_type": "code",
   "execution_count": 111,
   "id": "66c250c3",
   "metadata": {},
   "outputs": [
    {
     "data": {
      "text/plain": [
       "<matplotlib.legend.Legend at 0x1506800fd60>"
      ]
     },
     "execution_count": 111,
     "metadata": {},
     "output_type": "execute_result"
    },
    {
     "data": {
      "image/png": "[encoded data removed]",
      "text/plain": [
       "<Figure size 432x288 with 1 Axes>"
      ]
     },
     "metadata": {
      "needs_background": "light"
     },
     "output_type": "display_data"
    }
   ],
   "source": [
    "x = [1,2,3]\n",
    "y = [4,5,6]\n",
    "x1 = [4.5,8,9]\n",
    "y1 = [10,5.1,12]\n",
    "plt.plot(x,y,\"--\",x1,y1,\"--\")\n",
    "plt.title(\"line plot\")\n",
    "plt.xlabel(\"X\")\n",
    "plt.ylabel(\"Y\")\n",
    "plt.legend([\"x\",\"x1\"])"
   ]
  },
  {
   "cell_type": "markdown",
   "id": "e092c43b",
   "metadata": {},
   "source": [
    "## bar plot"
   ]
  },
  {
   "cell_type": "code",
   "execution_count": 115,
   "id": "ad2cfdcd",
   "metadata": {},
   "outputs": [
    {
     "data": {
      "text/plain": [
       "<matplotlib.legend.Legend at 0x15068200280>"
      ]
     },
     "execution_count": 115,
     "metadata": {},
     "output_type": "execute_result"
    },
    {
     "data": {
      "image/png": "[encoded data removed]",
      "text/plain": [
       "<Figure size 432x288 with 1 Axes>"
      ]
     },
     "metadata": {
      "needs_background": "light"
     },
     "output_type": "display_data"
    }
   ],
   "source": [
    "plt.bar(x,y,width=.8,color=\"red\")\n",
    "plt.bar(x1,y1,width=0.8,color='yellow')\n",
    "plt.title(\"bar plot\")\n",
    "plt.legend([\"x\",\"x1\"])"
   ]
  },
  {
   "cell_type": "markdown",
   "id": "eb3428fa",
   "metadata": {},
   "source": [
    "## Histogram"
   ]
  },
  {
   "cell_type": "code",
   "execution_count": 120,
   "id": "65e0e15d",
   "metadata": {},
   "outputs": [
    {
     "data": {
      "text/plain": [
       "<matplotlib.legend.Legend at 0x15068459ee0>"
      ]
     },
     "execution_count": 120,
     "metadata": {},
     "output_type": "execute_result"
    },
    {
     "data": {
      "image/png": "[encoded data removed]",
      "text/plain": [
       "<Figure size 432x288 with 1 Axes>"
      ]
     },
     "metadata": {
      "needs_background": "light"
     },
     "output_type": "display_data"
    }
   ],
   "source": [
    "plt.hist(x,color=\"black\",width=0.4)\n",
    "plt.hist(x1)\n",
    "plt.title(\"histogram\")\n",
    "plt.xlabel(\"X\")\n",
    "plt.ylabel(\"Y\")\n",
    "plt.legend([\"x\",\"x1\"])"
   ]
  },
  {
   "cell_type": "markdown",
   "id": "6bb809fb",
   "metadata": {},
   "source": [
    "## Scatter Plot"
   ]
  },
  {
   "cell_type": "code",
   "execution_count": 126,
   "id": "a8dfd6ac",
   "metadata": {},
   "outputs": [
    {
     "data": {
      "text/plain": [
       "<matplotlib.legend.Legend at 0x150663a33d0>"
      ]
     },
     "execution_count": 126,
     "metadata": {},
     "output_type": "execute_result"
    },
    {
     "data": {
      "image/png": "[encoded data removed]",
      "text/plain": [
       "<Figure size 432x288 with 1 Axes>"
      ]
     },
     "metadata": {
      "needs_background": "light"
     },
     "output_type": "display_data"
    }
   ],
   "source": [
    "plt.scatter(x,y,marker=\"x\")\n",
    "plt.scatter(x1,y1)\n",
    "plt.title(\"Scatter plot\")\n",
    "plt.legend([\"x\",\"x1\"])"
   ]
  },
  {
   "cell_type": "markdown",
   "id": "87582129",
   "metadata": {},
   "source": [
    "## Pichart"
   ]
  },
  {
   "cell_type": "code",
   "execution_count": 145,
   "id": "8f2eea13",
   "metadata": {},
   "outputs": [
    {
     "data": {
      "text/plain": [
       "<matplotlib.legend.Legend at 0x15069e6aa30>"
      ]
     },
     "execution_count": 145,
     "metadata": {},
     "output_type": "execute_result"
    },
    {
     "data": {
      "image/png": "[encoded data removed]",
      "text/plain": [
       "<Figure size 432x288 with 1 Axes>"
      ]
     },
     "metadata": {},
     "output_type": "display_data"
    }
   ],
   "source": [
    "plt.pie(x,shadow=True,labels=[round(1/sum(x),2),round(2/sum(x),2),round(3/sum(x),2)])\n",
    "plt.title(\"Pi Chart\")\n",
    "plt.legend([1,2,3])"
   ]
  },
  {
   "cell_type": "markdown",
   "id": "13815e96",
   "metadata": {},
   "source": [
    "## Area plot"
   ]
  },
  {
   "cell_type": "code",
   "execution_count": 156,
   "id": "d876cabb",
   "metadata": {},
   "outputs": [
    {
     "data": {
      "text/plain": [
       "Text(0, 0.5, 'y')"
      ]
     },
     "execution_count": 156,
     "metadata": {},
     "output_type": "execute_result"
    },
    {
     "data": {
      "image/png": "[encoded data removed]",
      "text/plain": [
       "<Figure size 432x288 with 1 Axes>"
      ]
     },
     "metadata": {
      "needs_background": "light"
     },
     "output_type": "display_data"
    }
   ],
   "source": [
    "days = [1,2,3,4]\n",
    "study = [8,5,9,10]\n",
    "play = [7,4,6,2]\n",
    "plt.stackplot(days,study,play,colors=['r','c'])\n",
    "plt.title(\"Area Plot\")\n",
    "plt.xlabel(\"x\")\n",
    "plt.ylabel(\"y\")"
   ]
  },
  {
   "cell_type": "code",
   "execution_count": null,
   "id": "a7ca3787",
   "metadata": {},
   "outputs": [],
   "source": []
  }
 ],
 "metadata": {
  "kernelspec": {
   "display_name": "Python 3 (ipykernel)",
   "language": "python",
   "name": "python3"
  },
  "language_info": {
   "codemirror_mode": {
    "name": "ipython",
    "version": 3
   },
   "file_extension": ".py",
   "mimetype": "text/x-python",
   "name": "python",
   "nbconvert_exporter": "python",
   "pygments_lexer": "ipython3",
   "version": "3.9.12"
  }
 },
 "nbformat": 4,
 "nbformat_minor": 5
}
